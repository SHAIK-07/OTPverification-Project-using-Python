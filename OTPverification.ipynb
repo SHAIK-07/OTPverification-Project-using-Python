{
 "cells": [
  {
   "cell_type": "code",
   "execution_count": 2,
   "metadata": {},
   "outputs": [
    {
     "name": "stdout",
     "output_type": "stream",
     "text": [
      "An OTP has been sent to your email address.\n",
      "OTP verification failed. Please try again. Attempts left: 2\n",
      "OTP verification failed. Please try again. Attempts left: 1\n",
      "OTP verification successful. Access granted!\n"
     ]
    }
   ],
   "source": [
    "# Import necessary modules\n",
    "import random\n",
    "import smtplib\n",
    "\n",
    "# Function to generate a random OTP\n",
    "def generate_otp():\n",
    "    otp = \"\"\n",
    "    for i in range(6):\n",
    "        i = random.randint(0, 9)\n",
    "        otp =otp + str(i)\n",
    "    return otp\n",
    "\n",
    "# Function to send OTP via email\n",
    "def send_otp_email(email, otp):\n",
    "    sender_email = \"technewswithai@gmail.com\"  # Replace with your email address\n",
    "    sender_password = \"sxlv etxo nzed qxgh\"  # Replace with your email password or app-specific password\n",
    "    subject = \"Subject: OTP Verification\\n\\n\"\n",
    "    message = \"Your OTP is: \" + str(otp)\n",
    "    msg = subject + message\n",
    "    \n",
    "    try:\n",
    "        server = smtplib.SMTP('smtp.gmail.com', 587)\n",
    "        server.starttls()\n",
    "        server.login(sender_email, sender_password)\n",
    "        server.sendmail(sender_email, email, msg)\n",
    "        print(\"An OTP has been sent to your email address.\")\n",
    "    except Exception as e:\n",
    "        print(f\"Error sending email: {str(e)}\")\n",
    "\n",
    "\n",
    "# Function to received_otp_entry by user \n",
    "def received_otp_entry():\n",
    "    return input(\"Enter the OTP you received via email: \")\n",
    "\n",
    "# Function to verify OTP\n",
    "def verify_otp(user_input, generated_otp):\n",
    "    return user_input == generated_otp\n",
    "\n",
    "# Main function\n",
    "def main():\n",
    "    # Get user's email address\n",
    "    user_email = input(\"Enter your email address: \")\n",
    "\n",
    "    # Generate OTP\n",
    "    generated_otp = generate_otp()\n",
    "\n",
    "    # Send OTP via email\n",
    "    send_otp_email(user_email, generated_otp)\n",
    "    \n",
    "    max_attempts = 3\n",
    "    attempts = 0\n",
    "    while attempts < max_attempts:\n",
    "        user_input = received_otp_entry()\n",
    "        if verify_otp(user_input, generated_otp):\n",
    "            print(\"OTP verification successful. Access granted!\")\n",
    "            break\n",
    "        else:\n",
    "            attempts = attempts + 1\n",
    "            print(f\"OTP verification failed. Please try again. Attempts left: {max_attempts - attempts}\")\n",
    "\n",
    "    if attempts == max_attempts:\n",
    "        print(\"Maximum attempts reached. Access denied.\")\n",
    "\n",
    "if __name__ == \"__main__\":\n",
    "    main()\n"
   ]
  }
 ],
 "metadata": {
  "kernelspec": {
   "display_name": "Python 3",
   "language": "python",
   "name": "python3"
  },
  "language_info": {
   "codemirror_mode": {
    "name": "ipython",
    "version": 3
   },
   "file_extension": ".py",
   "mimetype": "text/x-python",
   "name": "python",
   "nbconvert_exporter": "python",
   "pygments_lexer": "ipython3",
   "version": "3.12.1"
  }
 },
 "nbformat": 4,
 "nbformat_minor": 2
}
